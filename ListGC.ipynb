{
 "cells": [
  {
   "cell_type": "markdown",
   "id": "0c64e2f0",
   "metadata": {},
   "source": [
    "# Generalized Code "
   ]
  },
  {
   "cell_type": "markdown",
   "id": "8e21b39b",
   "metadata": {},
   "source": [
    "# Here are some Assumption which i have taken in this code, \n",
    "## 1) Value of m,n and o must be same\n",
    "## 2) Value of m,n and o must be the square of even number\n",
    "### some example of (m,n,o) are 4,16,36,64,100,144,256,324,400,484,504,676......"
   ]
  },
  {
   "cell_type": "code",
   "execution_count": 10,
   "id": "2bfa78f7",
   "metadata": {},
   "outputs": [
    {
     "name": "stdout",
     "output_type": "stream",
     "text": [
      "Enter the value of m, therfore n and o are also that same value: 36\n",
      "memory usage of List in Bytes 11288\n"
     ]
    }
   ],
   "source": [
    "m=int(input(\"Enter the value of m, therfore n and o are also that same value: \"))\n",
    "n=m\n",
    "o=m\n",
    "import math\n",
    "import sys\n",
    "import numpy as np\n",
    "from matplotlib import pyplot as plt\n",
    "z=0.5\n",
    "flag=0\n",
    "# Creating equally spaced m data in range 0 to 2*pi\n",
    "theta = np.linspace(0, 2 * np.pi, m)\n",
    "# Setting radius and intercept\n",
    "radius = 0.5\n",
    "D=int(math.sqrt(o))\n",
    "A=[]\n",
    "x=int(math.sqrt(o)+1) \n",
    "t=-((D//2)+(o//2))                 \n",
    "mm=-((D//2)+(o//2))\n",
    "alpha=-((D//2)+(o//2)) \n",
    "beta=((D//2)+(o//2))   \n",
    "for loop in range(1,D+2):\n",
    "    for i in range(alpha,beta):      \n",
    "        if i%x!=0:\n",
    "            for j in range(mm,t):\n",
    "                if j%x!=0:\n",
    "                    A.append([i,j])\n",
    "    mm=t+1\n",
    "    t=t+x   \n",
    "C_collection=[]\n",
    "for mm in A:\n",
    "\n",
    "    i=mm[0]\n",
    "    j=mm[1]\n",
    "    x = radius * np.cos(theta)+i\n",
    "    y = radius * np.sin(theta)+j\n",
    "    #plt.plot(x, y,color='#000033', alpha=0.5)\n",
    "    #plt.axis('equal')\n",
    "    #plt.title('Gridlines')\n",
    "    if flag==n:   ##### 100\n",
    "        z+=0.5\n",
    "        flag=0\n",
    "    flag=flag+1\n",
    "    C_collection.append([x.tolist(),y.tolist(),[(z) for a in range(m)]])  \n",
    "\n",
    "    \n",
    "# For visualing the point of intersection uncomment the plt lines of code    \n",
    "#m1= 0\n",
    "#t=-((D//2)+(o//2)) \n",
    "#l = np.linspace(t,-(t-1),100) \n",
    "#for c1 in range(t,-(t-1)):   \n",
    "    #plt.plot(l,l*m1+c1)\n",
    "    #plt.plot(l*m1+c1,l)\n",
    "\n",
    "\n",
    "print(\"memory usage of List in Bytes {}\".format(sys.getsizeof(C_collection)))"
   ]
  },
  {
   "cell_type": "code",
   "execution_count": null,
   "id": "0eb1c579",
   "metadata": {},
   "outputs": [],
   "source": []
  },
  {
   "cell_type": "markdown",
   "id": "073a8fa5",
   "metadata": {},
   "source": [
    "# Creating a Txt file and storing the points of interesection and scaled values into txt file"
   ]
  },
  {
   "cell_type": "code",
   "execution_count": 11,
   "id": "3c648e88",
   "metadata": {},
   "outputs": [
    {
     "name": "stdout",
     "output_type": "stream",
     "text": [
      "CPU times: user 22.4 s, sys: 2.33 s, total: 24.8 s\n",
      "Wall time: 25.1 s\n"
     ]
    }
   ],
   "source": [
    "\n",
    "%%time\n",
    "t=-((D//2)+(o//2)) \n",
    "import numpy as np\n",
    "from matplotlib import pyplot as plt\n",
    "Scaling=1.05\n",
    "m1= 0\n",
    "import numpy as np\n",
    "l = np.linspace(t,-(t-1),100)       \n",
    "for value in C_collection:\n",
    "    x=value[0][::2]\n",
    "    y=value[1][::2]\n",
    "    z=value[2][0]\n",
    "    for p,q in zip(x,y):   # for printing F collection , which is scaled up by a factor of 1.05\n",
    "        f = open(\"GcTask1.txt\", \"a\")\n",
    "        f.write(\"\\n\")\n",
    "        f.write(\"X: {:.4f} Y: {:.4f} Z: {:.4f}\".format(p*Scaling,q*Scaling,z))\n",
    "        f.close\n",
    "    for c1 in range(t,-(t-1)):\n",
    "        from shapely.geometry import LineString \n",
    "        line_1=LineString(np.column_stack((l, l*m1+c1)))\n",
    "        circle=LineString(np.column_stack((x,y)))\n",
    "        poi=line_1.intersection(circle)\n",
    "        if poi.bounds ==():\n",
    "            None\n",
    "        else :\n",
    "            f = open(\"GcTask1.txt\", \"a\")\n",
    "            f.write(\"\\n\")\n",
    "            f.write(\"X_: {:.4f} Y_: {:.4f} Z_: {:.4f}\".format(poi.bounds[0:1][0],poi.bounds[1:2][0],z))\n",
    "            f.write(\"\\n\")\n",
    "            f.write(\"X_: {:.4f} Y_: {:.4f} Z_: {:.4f}\".format(poi.bounds[2:3][0],poi.bounds[3:4][0],z))\n",
    "            f.close\n",
    "        line_2=LineString(np.column_stack((l*m1+c1, l)))\n",
    "        circle=LineString(np.column_stack((x,y)))\n",
    "        poi2=line_2.intersection(circle)\n",
    "        if poi2.bounds==():\n",
    "            None\n",
    "        else:\n",
    "            f = open(\"GcTask1.txt\", \"a\")\n",
    "            f.write(\"\\n\")\n",
    "            f.write(\"X_: {:.4f} Y_: {:.4f} Z_: {:.4f}\".format(poi2.bounds[0:1][0],poi2.bounds[1:2][0],z))\n",
    "            f.write(\"\\n\")\n",
    "            f.write(\"X_: {:.4f} Y_: {:.4f} Z_: {:.4f}\".format(poi2.bounds[2:3][0],poi2.bounds[3:4][0],z))\n",
    "            f.close                                                   "
   ]
  },
  {
   "cell_type": "code",
   "execution_count": null,
   "id": "dae31c58",
   "metadata": {},
   "outputs": [],
   "source": []
  },
  {
   "cell_type": "code",
   "execution_count": null,
   "id": "4111a5e0",
   "metadata": {},
   "outputs": [],
   "source": []
  },
  {
   "cell_type": "code",
   "execution_count": null,
   "id": "9be85f7c",
   "metadata": {},
   "outputs": [],
   "source": []
  },
  {
   "cell_type": "code",
   "execution_count": null,
   "id": "7fcbcba2",
   "metadata": {},
   "outputs": [],
   "source": []
  },
  {
   "cell_type": "code",
   "execution_count": null,
   "id": "0bcbb5e3",
   "metadata": {},
   "outputs": [],
   "source": []
  }
 ],
 "metadata": {
  "kernelspec": {
   "display_name": "Python 3 (ipykernel)",
   "language": "python",
   "name": "python3"
  },
  "language_info": {
   "codemirror_mode": {
    "name": "ipython",
    "version": 3
   },
   "file_extension": ".py",
   "mimetype": "text/x-python",
   "name": "python",
   "nbconvert_exporter": "python",
   "pygments_lexer": "ipython3",
   "version": "3.9.7"
  }
 },
 "nbformat": 4,
 "nbformat_minor": 5
}
